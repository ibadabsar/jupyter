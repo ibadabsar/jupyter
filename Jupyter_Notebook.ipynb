{
 "cells": [
  {
   "cell_type": "markdown",
   "metadata": {},
   "source": [
    "<center>\n",
    "    <img src=\"https://cf-courses-data.s3.us.cloud-object-storage.appdomain.cloud/IBMDeveloperSkillsNetwork-DS0105EN-SkillsNetwork/labs/Module2/images/SN_web_lightmode.png\" width=\"300\" alt=\"cognitiveclass.ai logo\">\n",
    "</center>\n"
   ]
  },
  {
   "cell_type": "markdown",
   "metadata": {},
   "source": [
    "#### Add your code below following the instructions given in the course\n"
   ]
  },
  {
   "cell_type": "markdown",
   "metadata": {},
   "source": [
    "My jupyter"
   ]
  },
  {
   "cell_type": "markdown",
   "metadata": {},
   "source": [
    "hey this is ibad and i am aspiring data science"
   ]
  },
  {
   "cell_type": "markdown",
   "metadata": {},
   "source": [
    "R\n",
    "Julia\n",
    "JavaScript\n",
    "Scala\n",
    "Java"
   ]
  },
  {
   "cell_type": "markdown",
   "metadata": {},
   "source": [
    "scipy\n",
    "numpy\n",
    "keras\n",
    "pandas"
   ]
  },
  {
   "cell_type": "markdown",
   "metadata": {},
   "source": [
    "|tool||description|\n",
    "| --- | --- |\n",
    "|python||A popular programming language for data analysis, machine learning, and scientific computing|\n",
    "| SQL||A domain-specific language used in programming and designed for managing data held in a relational database management system|\n"
   ]
  },
  {
   "cell_type": "markdown",
   "metadata": {},
   "source": [
    "2 + 3 is an example of an addition expression, which evaluates to 5.\n",
    "4 * 5 is an example of a multiplication expression, which evaluates to 20.\n",
    "6 / 2 is an example of a division expression, which evaluates to 3.\n",
    "10 - 7 is an example of a subtraction expression, which evaluates to 3"
   ]
  },
  {
   "cell_type": "markdown",
   "metadata": {},
   "source": [
    "# Define the variables\n",
    "x = 5\n",
    "y = 10\n",
    "z = 2\n",
    "\n",
    "# Multiply x and y\n",
    "result = x * y\n",
    "\n",
    "# Add z to the result\n",
    "final_result = result + z\n",
    "\n",
    "# Print the final result\n",
    "print(final_result)\n"
   ]
  },
  {
   "cell_type": "code",
   "execution_count": 3,
   "metadata": {},
   "outputs": [
    {
     "name": "stdout",
     "output_type": "stream",
     "text": [
      "The number of hours is: 2.0\n"
     ]
    }
   ],
   "source": [
    "# Define the variables\n",
    "minutes = 120\n",
    "\n",
    "# Convert minutes to hours\n",
    "hours = minutes / 60\n",
    "\n",
    "# Print the result\n",
    "print(\"The number of hours is:\", hours)\n"
   ]
  },
  {
   "cell_type": "markdown",
   "metadata": {},
   "source": [
    "Learn how to perform basic arithmetic operations using Python.\n",
    "Understand how to create and manipulate variables in Python.\n",
    "Learn how to convert between different units of measurement using Python.\n",
    "Explore different data types in Python, including integers, floats, and strings."
   ]
  },
  {
   "cell_type": "markdown",
   "metadata": {},
   "source": [
    "This Jupyter Notebook was created by [Ibad Absar].\n",
    "\n",
    "\n",
    "\n"
   ]
  }
 ],
 "metadata": {
  "kernelspec": {
   "display_name": "Python",
   "language": "python",
   "name": "conda-env-python-py"
  },
  "language_info": {
   "codemirror_mode": {
    "name": "ipython",
    "version": 3
   },
   "file_extension": ".py",
   "mimetype": "text/x-python",
   "name": "python",
   "nbconvert_exporter": "python",
   "pygments_lexer": "ipython3",
   "version": "3.7.12"
  }
 },
 "nbformat": 4,
 "nbformat_minor": 4
}
